{
  "nbformat": 4,
  "nbformat_minor": 0,
  "metadata": {
    "colab": {
      "provenance": [],
      "machine_shape": "hm"
    },
    "kernelspec": {
      "name": "python3",
      "display_name": "Python 3"
    },
    "language_info": {
      "name": "python"
    },
    "accelerator": "GPU",
    "gpuClass": "standard"
  },
  "cells": [
    {
      "cell_type": "code",
      "execution_count": 1,
      "metadata": {
        "id": "rvRAw_m0Hmwr",
        "colab": {
          "base_uri": "https://localhost:8080/"
        },
        "outputId": "ea8bfe20-b868-4712-f547-53e42277c972"
      },
      "outputs": [
        {
          "output_type": "stream",
          "name": "stdout",
          "text": [
            "Cloning into 'CNN_compression_with_Tensor_Decomposition'...\n",
            "remote: Enumerating objects: 129, done.\u001b[K\n",
            "remote: Counting objects: 100% (11/11), done.\u001b[K\n",
            "remote: Compressing objects: 100% (10/10), done.\u001b[K\n",
            "remote: Total 129 (delta 5), reused 1 (delta 1), pack-reused 118\u001b[K\n",
            "Receiving objects: 100% (129/129), 930.58 MiB | 22.98 MiB/s, done.\n",
            "Resolving deltas: 100% (40/40), done.\n",
            "Updating files: 100% (34/34), done.\n"
          ]
        }
      ],
      "source": [
        "!git clone https://github.com/K0EKJE/CNN_compression_with_Tensor_Decomposition.git"
      ]
    },
    {
      "cell_type": "code",
      "source": [
        "pip install tensorly"
      ],
      "metadata": {
        "id": "4nlmjWH0Gmq5",
        "colab": {
          "base_uri": "https://localhost:8080/"
        },
        "outputId": "25308196-24a0-435c-d790-53151c7d01a9"
      },
      "execution_count": 2,
      "outputs": [
        {
          "output_type": "stream",
          "name": "stdout",
          "text": [
            "Looking in indexes: https://pypi.org/simple, https://us-python.pkg.dev/colab-wheels/public/simple/\n",
            "Collecting tensorly\n",
            "  Downloading tensorly-0.8.0-py3-none-any.whl (228 kB)\n",
            "\u001b[2K     \u001b[90m━━━━━━━━━━━━━━━━━━━━━━━━━━━━━━━━━━━━━━━\u001b[0m \u001b[32m228.4/228.4 KB\u001b[0m \u001b[31m5.8 MB/s\u001b[0m eta \u001b[36m0:00:00\u001b[0m\n",
            "\u001b[?25hRequirement already satisfied: numpy in /usr/local/lib/python3.8/dist-packages (from tensorly) (1.22.4)\n",
            "Requirement already satisfied: scipy in /usr/local/lib/python3.8/dist-packages (from tensorly) (1.10.1)\n",
            "Installing collected packages: tensorly\n",
            "Successfully installed tensorly-0.8.0\n"
          ]
        }
      ]
    },
    {
      "cell_type": "code",
      "source": [
        "# the repo already has decomposed weight;\n",
        "!python /content/CNN_compression_with_Tensor_Decomposition/main.py --decompose --add --fine_tune"
      ],
      "metadata": {
        "id": "0LjC25UNTyg7",
        "colab": {
          "base_uri": "https://localhost:8080/"
        },
        "outputId": "a7d03512-ec4a-4058-bb9d-52a1d23fe135"
      },
      "execution_count": 139,
      "outputs": [
        {
          "output_type": "stream",
          "name": "stdout",
          "text": [
            "==> Preparing data..\n",
            "Files already downloaded and verified\n",
            "Files already downloaded and verified\n",
            "==> Building model..\n",
            "Residual structure disabled\n",
            "\n",
            "==> Building decomposed model..\n",
            "VGG(\n",
            "  (features): Sequential(\n",
            "    (0): Conv2d(3, 64, kernel_size=(3, 3), stride=(1, 1), padding=(1, 1))\n",
            "    (1): BatchNorm2d(64, eps=1e-05, momentum=0.1, affine=True, track_running_stats=True)\n",
            "    (2): ReLU(inplace=True)\n",
            "    (3): Sequential(\n",
            "      (0): Conv2d(64, 32, kernel_size=(1, 1), stride=(1, 1), bias=False)\n",
            "      (1): Conv2d(32, 32, kernel_size=(3, 1), stride=(1, 1), padding=(1, 0), groups=32, bias=False)\n",
            "      (2): Conv2d(32, 32, kernel_size=(1, 3), stride=(1, 1), padding=(0, 1), groups=32, bias=False)\n",
            "      (3): Conv2d(32, 64, kernel_size=(1, 1), stride=(1, 1))\n",
            "    )\n",
            "    (4): BatchNorm2d(64, eps=1e-05, momentum=0.1, affine=True, track_running_stats=True)\n",
            "    (5): ReLU(inplace=True)\n",
            "    (6): MaxPool2d(kernel_size=2, stride=2, padding=0, dilation=1, ceil_mode=False)\n",
            "    (7): Sequential(\n",
            "      (0): Conv2d(64, 64, kernel_size=(1, 1), stride=(1, 1), bias=False)\n",
            "      (1): Conv2d(64, 64, kernel_size=(3, 1), stride=(1, 1), padding=(1, 0), groups=64, bias=False)\n",
            "      (2): Conv2d(64, 64, kernel_size=(1, 3), stride=(1, 1), padding=(0, 1), groups=64, bias=False)\n",
            "      (3): Conv2d(64, 128, kernel_size=(1, 1), stride=(1, 1))\n",
            "    )\n",
            "    (8): BatchNorm2d(128, eps=1e-05, momentum=0.1, affine=True, track_running_stats=True)\n",
            "    (9): ReLU(inplace=True)\n",
            "    (10): Conv2d(128, 128, kernel_size=(3, 3), stride=(1, 1), padding=(1, 1))\n",
            "    (11): BatchNorm2d(128, eps=1e-05, momentum=0.1, affine=True, track_running_stats=True)\n",
            "    (12): ReLU(inplace=True)\n",
            "    (13): MaxPool2d(kernel_size=2, stride=2, padding=0, dilation=1, ceil_mode=False)\n",
            "    (14): Conv2d(128, 256, kernel_size=(3, 3), stride=(1, 1), padding=(1, 1))\n",
            "    (15): BatchNorm2d(256, eps=1e-05, momentum=0.1, affine=True, track_running_stats=True)\n",
            "    (16): ReLU(inplace=True)\n",
            "    (17): Conv2d(256, 256, kernel_size=(3, 3), stride=(1, 1), padding=(1, 1))\n",
            "    (18): BatchNorm2d(256, eps=1e-05, momentum=0.1, affine=True, track_running_stats=True)\n",
            "    (19): ReLU(inplace=True)\n",
            "    (20): Conv2d(256, 256, kernel_size=(3, 3), stride=(1, 1), padding=(1, 1))\n",
            "    (21): BatchNorm2d(256, eps=1e-05, momentum=0.1, affine=True, track_running_stats=True)\n",
            "    (22): ReLU(inplace=True)\n",
            "    (23): Conv2d(256, 256, kernel_size=(3, 3), stride=(1, 1), padding=(1, 1))\n",
            "    (24): BatchNorm2d(256, eps=1e-05, momentum=0.1, affine=True, track_running_stats=True)\n",
            "    (25): ReLU(inplace=True)\n",
            "    (26): MaxPool2d(kernel_size=2, stride=2, padding=0, dilation=1, ceil_mode=False)\n",
            "    (27): Conv2d(256, 512, kernel_size=(3, 3), stride=(1, 1), padding=(1, 1))\n",
            "    (28): BatchNorm2d(512, eps=1e-05, momentum=0.1, affine=True, track_running_stats=True)\n",
            "    (29): ReLU(inplace=True)\n",
            "    (30): Conv2d(512, 512, kernel_size=(3, 3), stride=(1, 1), padding=(1, 1))\n",
            "    (31): BatchNorm2d(512, eps=1e-05, momentum=0.1, affine=True, track_running_stats=True)\n",
            "    (32): ReLU(inplace=True)\n",
            "    (33): Conv2d(512, 512, kernel_size=(3, 3), stride=(1, 1), padding=(1, 1))\n",
            "    (34): BatchNorm2d(512, eps=1e-05, momentum=0.1, affine=True, track_running_stats=True)\n",
            "    (35): ReLU(inplace=True)\n",
            "    (36): Conv2d(512, 512, kernel_size=(3, 3), stride=(1, 1), padding=(1, 1))\n",
            "    (37): BatchNorm2d(512, eps=1e-05, momentum=0.1, affine=True, track_running_stats=True)\n",
            "    (38): ReLU(inplace=True)\n",
            "    (39): MaxPool2d(kernel_size=2, stride=2, padding=0, dilation=1, ceil_mode=False)\n",
            "    (40): Conv2d(512, 512, kernel_size=(3, 3), stride=(1, 1), padding=(1, 1))\n",
            "    (41): BatchNorm2d(512, eps=1e-05, momentum=0.1, affine=True, track_running_stats=True)\n",
            "    (42): ReLU(inplace=True)\n",
            "    (43): Conv2d(512, 512, kernel_size=(3, 3), stride=(1, 1), padding=(1, 1))\n",
            "    (44): BatchNorm2d(512, eps=1e-05, momentum=0.1, affine=True, track_running_stats=True)\n",
            "    (45): ReLU(inplace=True)\n",
            "    (46): Conv2d(512, 512, kernel_size=(3, 3), stride=(1, 1), padding=(1, 1))\n",
            "    (47): BatchNorm2d(512, eps=1e-05, momentum=0.1, affine=True, track_running_stats=True)\n",
            "    (48): ReLU(inplace=True)\n",
            "    (49): Conv2d(512, 512, kernel_size=(3, 3), stride=(1, 1), padding=(1, 1))\n",
            "    (50): BatchNorm2d(512, eps=1e-05, momentum=0.1, affine=True, track_running_stats=True)\n",
            "    (51): ReLU(inplace=True)\n",
            "    (52): MaxPool2d(kernel_size=2, stride=2, padding=0, dilation=1, ceil_mode=False)\n",
            "    (53): AvgPool2d(kernel_size=1, stride=1, padding=0)\n",
            "  )\n",
            "  (classifier): Linear(in_features=512, out_features=10, bias=True)\n",
            ")\n",
            "====================================================================================================\n",
            "\n",
            "Epoch: 1\n",
            " [================================================================>]  Step: 636ms  | Tot: 25s 182ms  | Loss: 0.003 | Acc: 99.944% (49972/50000) 391/391 \n",
            " [================================================================>]  Step: 17ms  | Tot: 2s 63ms  | Loss: 0.392 | Acc: 92.520% (9252/10000) 100/100 \n",
            "Saving..\n",
            "\n",
            "Epoch: 2\n",
            " [================================================================>]  Step: 50ms  | Tot: 25s 264ms  | Loss: 0.002 | Acc: 99.946% (49973/50000) 391/391 \n",
            " [================================================================>]  Step: 17ms  | Tot: 1s 942ms  | Loss: 0.392 | Acc: 92.620% (9262/10000) 100/100 \n",
            "Saving..\n",
            "\n",
            "Epoch: 3\n",
            " [================================================================>]  Step: 49ms  | Tot: 25s 390ms  | Loss: 0.003 | Acc: 99.946% (49973/50000) 391/391 \n",
            " [================================================================>]  Step: 20ms  | Tot: 1s 963ms  | Loss: 0.389 | Acc: 92.740% (9274/10000) 100/100 \n",
            "Saving..\n",
            "\n",
            "Epoch: 4\n",
            " [================================================================>]  Step: 47ms  | Tot: 25s 202ms  | Loss: 0.002 | Acc: 99.960% (49980/50000) 391/391 \n",
            " [================================================================>]  Step: 15ms  | Tot: 1s 992ms  | Loss: 0.389 | Acc: 92.720% (9272/10000) 100/100 \n",
            "\n",
            "Epoch: 5\n",
            " [================================================================>]  Step: 49ms  | Tot: 25s 293ms  | Loss: 0.003 | Acc: 99.930% (49965/50000) 391/391 \n",
            " [================================================================>]  Step: 18ms  | Tot: 1s 964ms  | Loss: 0.386 | Acc: 92.660% (9266/10000) 100/100 \n",
            "\n",
            "Epoch: 6\n",
            " [================================================================>]  Step: 49ms  | Tot: 25s 393ms  | Loss: 0.002 | Acc: 99.962% (49981/50000) 391/391 \n",
            " [================================================================>]  Step: 18ms  | Tot: 2s 97ms  | Loss: 0.385 | Acc: 92.630% (9263/10000) 100/100 \n",
            "\n",
            "Epoch: 7\n",
            " [================================================================>]  Step: 48ms  | Tot: 25s 308ms  | Loss: 0.002 | Acc: 99.952% (49976/50000) 391/391 \n",
            " [================================================================>]  Step: 17ms  | Tot: 2s 86ms  | Loss: 0.385 | Acc: 92.740% (9274/10000) 100/100 \n",
            "\n",
            "Epoch: 8\n",
            " [================================================================>]  Step: 48ms  | Tot: 25s 334ms  | Loss: 0.002 | Acc: 99.964% (49982/50000) 391/391 \n",
            " [================================================================>]  Step: 18ms  | Tot: 1s 978ms  | Loss: 0.385 | Acc: 92.600% (9260/10000) 100/100 \n",
            "\n",
            "Epoch: 9\n",
            " [================================================================>]  Step: 49ms  | Tot: 25s 248ms  | Loss: 0.002 | Acc: 99.968% (49984/50000) 391/391 \n",
            " [================================================================>]  Step: 17ms  | Tot: 1s 942ms  | Loss: 0.384 | Acc: 92.720% (9272/10000) 100/100 \n",
            "\n",
            "Epoch: 10\n",
            " [================================================================>]  Step: 50ms  | Tot: 25s 264ms  | Loss: 0.002 | Acc: 99.960% (49980/50000) 391/391 \n",
            " [================================================================>]  Step: 16ms  | Tot: 2s 53ms  | Loss: 0.386 | Acc: 92.680% (9268/10000) 100/100 \n",
            "\n",
            "Epoch: 11\n",
            " [================================================================>]  Step: 48ms  | Tot: 25s 269ms  | Loss: 0.002 | Acc: 99.974% (49987/50000) 391/391 \n",
            " [================================================================>]  Step: 18ms  | Tot: 1s 917ms  | Loss: 0.386 | Acc: 92.680% (9268/10000) 100/100 \n",
            "\n",
            "Epoch: 12\n",
            " [================================================================>]  Step: 48ms  | Tot: 25s 301ms  | Loss: 0.002 | Acc: 99.974% (49987/50000) 391/391 \n",
            " [================================================================>]  Step: 18ms  | Tot: 1s 965ms  | Loss: 0.388 | Acc: 92.680% (9268/10000) 100/100 \n",
            "\n",
            "Epoch: 13\n",
            " [================================================================>]  Step: 48ms  | Tot: 25s 342ms  | Loss: 0.002 | Acc: 99.968% (49984/50000) 391/391 \n",
            " [================================================================>]  Step: 18ms  | Tot: 1s 981ms  | Loss: 0.384 | Acc: 92.650% (9265/10000) 100/100 \n",
            "\n",
            "Epoch: 14\n",
            " [================================================================>]  Step: 49ms  | Tot: 25s 304ms  | Loss: 0.002 | Acc: 99.966% (49983/50000) 391/391 \n",
            " [================================================================>]  Step: 17ms  | Tot: 1s 984ms  | Loss: 0.384 | Acc: 92.750% (9275/10000) 100/100 \n",
            "Saving..\n",
            "\n",
            "Epoch: 15\n",
            " [================================================================>]  Step: 49ms  | Tot: 25s 250ms  | Loss: 0.002 | Acc: 99.958% (49979/50000) 391/391 \n",
            " [================================================================>]  Step: 18ms  | Tot: 1s 969ms  | Loss: 0.386 | Acc: 92.660% (9266/10000) 100/100 \n",
            "\n",
            "Epoch: 16\n",
            " [================================================================>]  Step: 50ms  | Tot: 25s 275ms  | Loss: 0.002 | Acc: 99.972% (49986/50000) 391/391 \n",
            " [================================================================>]  Step: 20ms  | Tot: 1s 967ms  | Loss: 0.384 | Acc: 92.630% (9263/10000) 100/100 \n",
            "\n",
            "Epoch: 17\n",
            " [================================================================>]  Step: 48ms  | Tot: 25s 304ms  | Loss: 0.002 | Acc: 99.970% (49985/50000) 391/391 \n",
            " [================================================================>]  Step: 18ms  | Tot: 2s 7ms  | Loss: 0.384 | Acc: 92.730% (9273/10000) 100/100 \n",
            "\n",
            "Epoch: 18\n",
            " [================================================================>]  Step: 48ms  | Tot: 25s 281ms  | Loss: 0.002 | Acc: 99.962% (49981/50000) 391/391 \n",
            " [================================================================>]  Step: 17ms  | Tot: 1s 951ms  | Loss: 0.385 | Acc: 92.630% (9263/10000) 100/100 \n",
            "\n",
            "Epoch: 19\n",
            " [================================================================>]  Step: 49ms  | Tot: 25s 243ms  | Loss: 0.002 | Acc: 99.976% (49988/50000) 391/391 \n",
            " [================================================================>]  Step: 18ms  | Tot: 1s 975ms  | Loss: 0.381 | Acc: 92.710% (9271/10000) 100/100 \n",
            "\n",
            "Epoch: 20\n",
            " [================================================================>]  Step: 49ms  | Tot: 25s 274ms  | Loss: 0.002 | Acc: 99.972% (49986/50000) 391/391 \n",
            " [================================================================>]  Step: 18ms  | Tot: 1s 982ms  | Loss: 0.383 | Acc: 92.690% (9269/10000) 100/100 \n"
          ]
        }
      ]
    },
    {
      "cell_type": "markdown",
      "source": [
        "Number of Params (of second and third convolutional layer):\n",
        "\n",
        "\n",
        "- Original param size: 36864 + 73728 = 110592\n",
        "\n",
        "- Current param size: 4288 + 12672 = 16960\n",
        "\n",
        "Accuracy (tested on CIFAR10)\n",
        "\n",
        "- before: 93.11%\n",
        "\n",
        "- Now: \n",
        "\n",
        "  - 91.46% (without fine tuning)\n",
        "\n",
        "  - 92.75% (best with fine tuning)"
      ],
      "metadata": {
        "id": "AuTHT4OCOWCN"
      }
    },
    {
      "cell_type": "code",
      "source": [],
      "metadata": {
        "id": "hvERsAqBeDAf"
      },
      "execution_count": null,
      "outputs": []
    }
  ]
}