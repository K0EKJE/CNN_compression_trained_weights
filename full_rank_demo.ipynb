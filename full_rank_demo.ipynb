{
  "nbformat": 4,
  "nbformat_minor": 0,
  "metadata": {
    "colab": {
      "provenance": [],
      "machine_shape": "hm"
    },
    "kernelspec": {
      "name": "python3",
      "display_name": "Python 3"
    },
    "language_info": {
      "name": "python"
    },
    "accelerator": "GPU",
    "gpuClass": "standard"
  },
  "cells": [
    {
      "cell_type": "code",
      "execution_count": 1,
      "metadata": {
        "id": "rvRAw_m0Hmwr",
        "colab": {
          "base_uri": "https://localhost:8080/"
        },
        "outputId": "ea8bfe20-b868-4712-f547-53e42277c972"
      },
      "outputs": [
        {
          "output_type": "stream",
          "name": "stdout",
          "text": [
            "Cloning into 'CNN_compression_with_Tensor_Decomposition'...\n",
            "remote: Enumerating objects: 129, done.\u001b[K\n",
            "remote: Counting objects: 100% (11/11), done.\u001b[K\n",
            "remote: Compressing objects: 100% (10/10), done.\u001b[K\n",
            "remote: Total 129 (delta 5), reused 1 (delta 1), pack-reused 118\u001b[K\n",
            "Receiving objects: 100% (129/129), 930.58 MiB | 22.98 MiB/s, done.\n",
            "Resolving deltas: 100% (40/40), done.\n",
            "Updating files: 100% (34/34), done.\n"
          ]
        }
      ],
      "source": [
        "!git clone https://github.com/K0EKJE/CNN_compression_with_Tensor_Decomposition.git"
      ]
    },
    {
      "cell_type": "code",
      "source": [
        "pip install tensorly"
      ],
      "metadata": {
        "id": "4nlmjWH0Gmq5",
        "colab": {
          "base_uri": "https://localhost:8080/"
        },
        "outputId": "25308196-24a0-435c-d790-53151c7d01a9"
      },
      "execution_count": 2,
      "outputs": [
        {
          "output_type": "stream",
          "name": "stdout",
          "text": [
            "Looking in indexes: https://pypi.org/simple, https://us-python.pkg.dev/colab-wheels/public/simple/\n",
            "Collecting tensorly\n",
            "  Downloading tensorly-0.8.0-py3-none-any.whl (228 kB)\n",
            "\u001b[2K     \u001b[90m━━━━━━━━━━━━━━━━━━━━━━━━━━━━━━━━━━━━━━━\u001b[0m \u001b[32m228.4/228.4 KB\u001b[0m \u001b[31m5.8 MB/s\u001b[0m eta \u001b[36m0:00:00\u001b[0m\n",
            "\u001b[?25hRequirement already satisfied: numpy in /usr/local/lib/python3.8/dist-packages (from tensorly) (1.22.4)\n",
            "Requirement already satisfied: scipy in /usr/local/lib/python3.8/dist-packages (from tensorly) (1.10.1)\n",
            "Installing collected packages: tensorly\n",
            "Successfully installed tensorly-0.8.0\n"
          ]
        }
      ]
    },
    {
      "cell_type": "code",
      "source": [
        "# the repo already has decomposed weight;\n",
        "!python /content/CNN_compression_with_Tensor_Decomposition/main.py --decompose"
      ],
      "metadata": {
        "id": "0LjC25UNTyg7",
        "colab": {
          "base_uri": "https://localhost:8080/"
        },
        "outputId": "f17fdd59-98ce-4d2d-f746-3a4e298fe56e"
      },
      "execution_count": 126,
      "outputs": [
        {
          "output_type": "stream",
          "name": "stdout",
          "text": [
            "==> Preparing data..\n",
            "Files already downloaded and verified\n",
            "Files already downloaded and verified\n",
            "==> Building model..\n",
            "VGG(\n",
            "  (features): Sequential(\n",
            "    (0): Conv2d(3, 64, kernel_size=(3, 3), stride=(1, 1), padding=(1, 1))\n",
            "    (1): BatchNorm2d(64, eps=1e-05, momentum=0.1, affine=True, track_running_stats=True)\n",
            "    (2): ReLU(inplace=True)\n",
            "    (3): Sequential(\n",
            "      (0): Conv2d(64, 64, kernel_size=(1, 1), stride=(1, 1), bias=False)\n",
            "      (1): Conv2d(64, 64, kernel_size=(3, 1), stride=(1, 1), padding=(1, 0), groups=64, bias=False)\n",
            "      (2): Conv2d(64, 64, kernel_size=(1, 3), stride=(1, 1), padding=(0, 1), groups=64, bias=False)\n",
            "      (3): Conv2d(64, 64, kernel_size=(1, 1), stride=(1, 1))\n",
            "    )\n",
            "    (4): BatchNorm2d(64, eps=1e-05, momentum=0.1, affine=True, track_running_stats=True)\n",
            "    (5): ReLU(inplace=True)\n",
            "    (6): MaxPool2d(kernel_size=2, stride=2, padding=0, dilation=1, ceil_mode=False)\n",
            "    (7): Sequential(\n",
            "      (0): Conv2d(64, 128, kernel_size=(1, 1), stride=(1, 1), bias=False)\n",
            "      (1): Conv2d(128, 128, kernel_size=(3, 1), stride=(1, 1), padding=(1, 0), groups=128, bias=False)\n",
            "      (2): Conv2d(128, 128, kernel_size=(1, 3), stride=(1, 1), padding=(0, 1), groups=128, bias=False)\n",
            "      (3): Conv2d(128, 128, kernel_size=(1, 1), stride=(1, 1))\n",
            "    )\n",
            "    (8): BatchNorm2d(128, eps=1e-05, momentum=0.1, affine=True, track_running_stats=True)\n",
            "    (9): ReLU(inplace=True)\n",
            "    (10): Conv2d(128, 128, kernel_size=(3, 3), stride=(1, 1), padding=(1, 1))\n",
            "    (11): BatchNorm2d(128, eps=1e-05, momentum=0.1, affine=True, track_running_stats=True)\n",
            "    (12): ReLU(inplace=True)\n",
            "    (13): MaxPool2d(kernel_size=2, stride=2, padding=0, dilation=1, ceil_mode=False)\n",
            "    (14): Conv2d(128, 256, kernel_size=(3, 3), stride=(1, 1), padding=(1, 1))\n",
            "    (15): BatchNorm2d(256, eps=1e-05, momentum=0.1, affine=True, track_running_stats=True)\n",
            "    (16): ReLU(inplace=True)\n",
            "    (17): Conv2d(256, 256, kernel_size=(3, 3), stride=(1, 1), padding=(1, 1))\n",
            "    (18): BatchNorm2d(256, eps=1e-05, momentum=0.1, affine=True, track_running_stats=True)\n",
            "    (19): ReLU(inplace=True)\n",
            "    (20): Conv2d(256, 256, kernel_size=(3, 3), stride=(1, 1), padding=(1, 1))\n",
            "    (21): BatchNorm2d(256, eps=1e-05, momentum=0.1, affine=True, track_running_stats=True)\n",
            "    (22): ReLU(inplace=True)\n",
            "    (23): Conv2d(256, 256, kernel_size=(3, 3), stride=(1, 1), padding=(1, 1))\n",
            "    (24): BatchNorm2d(256, eps=1e-05, momentum=0.1, affine=True, track_running_stats=True)\n",
            "    (25): ReLU(inplace=True)\n",
            "    (26): MaxPool2d(kernel_size=2, stride=2, padding=0, dilation=1, ceil_mode=False)\n",
            "    (27): Conv2d(256, 512, kernel_size=(3, 3), stride=(1, 1), padding=(1, 1))\n",
            "    (28): BatchNorm2d(512, eps=1e-05, momentum=0.1, affine=True, track_running_stats=True)\n",
            "    (29): ReLU(inplace=True)\n",
            "    (30): Conv2d(512, 512, kernel_size=(3, 3), stride=(1, 1), padding=(1, 1))\n",
            "    (31): BatchNorm2d(512, eps=1e-05, momentum=0.1, affine=True, track_running_stats=True)\n",
            "    (32): ReLU(inplace=True)\n",
            "    (33): Conv2d(512, 512, kernel_size=(3, 3), stride=(1, 1), padding=(1, 1))\n",
            "    (34): BatchNorm2d(512, eps=1e-05, momentum=0.1, affine=True, track_running_stats=True)\n",
            "    (35): ReLU(inplace=True)\n",
            "    (36): Conv2d(512, 512, kernel_size=(3, 3), stride=(1, 1), padding=(1, 1))\n",
            "    (37): BatchNorm2d(512, eps=1e-05, momentum=0.1, affine=True, track_running_stats=True)\n",
            "    (38): ReLU(inplace=True)\n",
            "    (39): MaxPool2d(kernel_size=2, stride=2, padding=0, dilation=1, ceil_mode=False)\n",
            "    (40): Conv2d(512, 512, kernel_size=(3, 3), stride=(1, 1), padding=(1, 1))\n",
            "    (41): BatchNorm2d(512, eps=1e-05, momentum=0.1, affine=True, track_running_stats=True)\n",
            "    (42): ReLU(inplace=True)\n",
            "    (43): Conv2d(512, 512, kernel_size=(3, 3), stride=(1, 1), padding=(1, 1))\n",
            "    (44): BatchNorm2d(512, eps=1e-05, momentum=0.1, affine=True, track_running_stats=True)\n",
            "    (45): ReLU(inplace=True)\n",
            "    (46): Conv2d(512, 512, kernel_size=(3, 3), stride=(1, 1), padding=(1, 1))\n",
            "    (47): BatchNorm2d(512, eps=1e-05, momentum=0.1, affine=True, track_running_stats=True)\n",
            "    (48): ReLU(inplace=True)\n",
            "    (49): Conv2d(512, 512, kernel_size=(3, 3), stride=(1, 1), padding=(1, 1))\n",
            "    (50): BatchNorm2d(512, eps=1e-05, momentum=0.1, affine=True, track_running_stats=True)\n",
            "    (51): ReLU(inplace=True)\n",
            "    (52): MaxPool2d(kernel_size=2, stride=2, padding=0, dilation=1, ceil_mode=False)\n",
            "    (53): AvgPool2d(kernel_size=1, stride=1, padding=0)\n",
            "  )\n",
            "  (classifier): Linear(in_features=512, out_features=10, bias=True)\n",
            ")\n",
            "\n",
            "Epoch: 1\n",
            " [================================================================>]  Step: 628ms  | Tot: 26s 513ms  | Loss: 0.001 | Acc: 99.994% (49997/50000) 391/391 \n",
            " [================================================================>]  Step: 19ms  | Tot: 1s 949ms  | Loss: 0.366 | Acc: 93.030% (9303/10000) 100/100 \n",
            "Saving..\n",
            "\n",
            "Epoch: 2\n",
            " [================================================================>]  Step: 51ms  | Tot: 26s 677ms  | Loss: 0.001 | Acc: 99.992% (49996/50000) 391/391 \n",
            " [================================================================>]  Step: 20ms  | Tot: 2s 4ms  | Loss: 0.366 | Acc: 93.050% (9305/10000) 100/100 \n",
            "Saving..\n",
            "\n",
            "Epoch: 3\n",
            " [================================================================>]  Step: 53ms  | Tot: 27s 205ms  | Loss: 0.001 | Acc: 99.992% (49996/50000) 391/391 \n",
            " [================================================================>]  Step: 19ms  | Tot: 2s 1ms  | Loss: 0.369 | Acc: 92.990% (9299/10000) 100/100 \n",
            "\n",
            "Epoch: 4\n",
            " [================================================================>]  Step: 52ms  | Tot: 27s 22ms  | Loss: 0.001 | Acc: 99.996% (49998/50000) 391/391 \n",
            " [================================================================>]  Step: 19ms  | Tot: 2s 37ms  | Loss: 0.368 | Acc: 92.970% (9297/10000) 100/100 \n",
            "\n",
            "Epoch: 5\n",
            " [================================================================>]  Step: 51ms  | Tot: 27s 45ms  | Loss: 0.001 | Acc: 99.988% (49994/50000) 391/391 \n",
            " [================================================================>]  Step: 18ms  | Tot: 2s 34ms  | Loss: 0.371 | Acc: 93.090% (9309/10000) 100/100 \n",
            "Saving..\n",
            "\n",
            "Epoch: 6\n",
            " [================================================================>]  Step: 51ms  | Tot: 27s 107ms  | Loss: 0.001 | Acc: 99.998% (49999/50000) 391/391 \n",
            " [================================================================>]  Step: 19ms  | Tot: 2s 40ms  | Loss: 0.368 | Acc: 92.940% (9294/10000) 100/100 \n",
            "\n",
            "Epoch: 7\n",
            " [================================================================>]  Step: 53ms  | Tot: 27s 16ms  | Loss: 0.001 | Acc: 99.994% (49997/50000) 391/391 \n",
            " [================================================================>]  Step: 18ms  | Tot: 2s 13ms  | Loss: 0.368 | Acc: 92.910% (9291/10000) 100/100 \n",
            "\n",
            "Epoch: 8\n",
            " [================================================================>]  Step: 51ms  | Tot: 26s 978ms  | Loss: 0.001 | Acc: 99.994% (49997/50000) 391/391 \n",
            " [================================================================>]  Step: 19ms  | Tot: 2s 41ms  | Loss: 0.369 | Acc: 92.930% (9293/10000) 100/100 \n",
            "\n",
            "Epoch: 9\n",
            " [================================================================>]  Step: 51ms  | Tot: 27s 79ms  | Loss: 0.001 | Acc: 99.998% (49999/50000) 391/391 \n",
            " [================================================================>]  Step: 19ms  | Tot: 2s 56ms  | Loss: 0.368 | Acc: 93.020% (9302/10000) 100/100 \n",
            "\n",
            "Epoch: 10\n",
            " [================================================================>]  Step: 50ms  | Tot: 27s 74ms  | Loss: 0.001 | Acc: 99.994% (49997/50000) 391/391 \n",
            " [================================================================>]  Step: 24ms  | Tot: 2s 69ms  | Loss: 0.369 | Acc: 93.010% (9301/10000) 100/100 \n",
            "\n",
            "Epoch: 11\n",
            " [================================================================>]  Step: 51ms  | Tot: 27s 34ms  | Loss: 0.001 | Acc: 99.992% (49996/50000) 391/391 \n",
            " [================================================================>]  Step: 19ms  | Tot: 2s 54ms  | Loss: 0.370 | Acc: 93.080% (9308/10000) 100/100 \n",
            "\n",
            "Epoch: 12\n",
            " [================================================================>]  Step: 52ms  | Tot: 27s 48ms  | Loss: 0.001 | Acc: 99.992% (49996/50000) 391/391 \n",
            " [================================================================>]  Step: 18ms  | Tot: 2s 71ms  | Loss: 0.370 | Acc: 93.080% (9308/10000) 100/100 \n",
            "\n",
            "Epoch: 13\n",
            " [================================================================>]  Step: 50ms  | Tot: 27s 93ms  | Loss: 0.001 | Acc: 99.992% (49996/50000) 391/391 \n",
            " [================================================================>]  Step: 19ms  | Tot: 2s 29ms  | Loss: 0.370 | Acc: 92.940% (9294/10000) 100/100 \n",
            "\n",
            "Epoch: 14\n",
            " [================================================================>]  Step: 50ms  | Tot: 27s 97ms  | Loss: 0.001 | Acc: 99.990% (49995/50000) 391/391 \n",
            " [================================================================>]  Step: 18ms  | Tot: 2s 90ms  | Loss: 0.371 | Acc: 92.920% (9292/10000) 100/100 \n",
            "\n",
            "Epoch: 15\n",
            " [================================================================>]  Step: 50ms  | Tot: 27s 92ms  | Loss: 0.001 | Acc: 99.994% (49997/50000) 391/391 \n",
            " [================================================================>]  Step: 19ms  | Tot: 2s 57ms  | Loss: 0.374 | Acc: 92.940% (9294/10000) 100/100 \n",
            "\n",
            "Epoch: 16\n",
            " [================================================================>]  Step: 50ms  | Tot: 27s 47ms  | Loss: 0.001 | Acc: 99.996% (49998/50000) 391/391 \n",
            " [================================================================>]  Step: 19ms  | Tot: 2s 57ms  | Loss: 0.370 | Acc: 92.920% (9292/10000) 100/100 \n",
            "\n",
            "Epoch: 17\n",
            " [================================================================>]  Step: 52ms  | Tot: 27s 132ms  | Loss: 0.001 | Acc: 99.992% (49996/50000) 391/391 \n",
            " [================================================================>]  Step: 19ms  | Tot: 2s 57ms  | Loss: 0.369 | Acc: 92.970% (9297/10000) 100/100 \n",
            "\n",
            "Epoch: 18\n",
            " [================================================================>]  Step: 51ms  | Tot: 27s 65ms  | Loss: 0.001 | Acc: 99.992% (49996/50000) 391/391 \n",
            " [================================================================>]  Step: 20ms  | Tot: 2s 133ms  | Loss: 0.370 | Acc: 92.970% (9297/10000) 100/100 \n",
            "\n",
            "Epoch: 19\n",
            " [================================================================>]  Step: 51ms  | Tot: 27s 134ms  | Loss: 0.001 | Acc: 99.996% (49998/50000) 391/391 \n",
            " [================================================================>]  Step: 20ms  | Tot: 2s 65ms  | Loss: 0.370 | Acc: 92.930% (9293/10000) 100/100 \n",
            "\n",
            "Epoch: 20\n",
            " [================================================================>]  Step: 51ms  | Tot: 26s 995ms  | Loss: 0.001 | Acc: 99.994% (49997/50000) 391/391 \n",
            " [================================================================>]  Step: 19ms  | Tot: 2s 24ms  | Loss: 0.369 | Acc: 92.950% (9295/10000) 100/100 \n"
          ]
        }
      ]
    },
    {
      "cell_type": "markdown",
      "source": [
        "Number of Params (of second and third convolutional layer):\n",
        "\n",
        "\n",
        "- Original param size: 36864 + 73728 = 110592\n",
        "\n",
        "- Current param size: 25344 + 8576 = 33920\n",
        "\n",
        "Accuracy (tested on CIFAR10)\n",
        "\n",
        "- before: 93.11%\n",
        "\n",
        "- Now: \n",
        "\n",
        "  - 92.85% (without fine tuning)\n",
        "\n",
        "  - 93.09% (best with fine tuning)"
      ],
      "metadata": {
        "id": "AuTHT4OCOWCN"
      }
    },
    {
      "cell_type": "code",
      "source": [],
      "metadata": {
        "id": "QOe7QUg8T_l7"
      },
      "execution_count": null,
      "outputs": []
    }
  ]
}